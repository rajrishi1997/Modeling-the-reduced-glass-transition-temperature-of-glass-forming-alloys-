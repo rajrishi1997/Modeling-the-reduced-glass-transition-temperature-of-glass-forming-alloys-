{
 "cells": [
  {
   "cell_type": "markdown",
   "id": "played-stack",
   "metadata": {},
   "source": [
    "#                                     EXPLORATORY DATA ANALYSIS REPORT"
   ]
  },
  {
   "cell_type": "markdown",
   "id": "frank-cooler",
   "metadata": {},
   "source": [
    "Name-Rajrishi Sarkar,Roll-203110061"
   ]
  },
  {
   "cell_type": "markdown",
   "id": "employed-contrast",
   "metadata": {},
   "source": [
    "# Data description"
   ]
  },
  {
   "cell_type": "markdown",
   "id": "center-classification",
   "metadata": {},
   "source": [
    "Metallic Glass Descriptors:\n",
    "\n",
    "\tRelevant papers:\n",
    "\t\tThere is no paper published on this data set at the present time.  The data was assembled\n",
    "\t\tprimarily by Vanessa Nilsen under the guidance of Prof. Dane Morgan at UW Madison\n",
    "\t\t (ddmorgan@wisc.edu).\n",
    "\t\tA previous study of reduced glass transition temperature as a GFA descriptor can be found in reference [5]:\n",
    "\t\thttps://www.sciencedirect.com/science/article/pii/S0022309300000648\n",
    "\t\t\n",
    "\tX features:\n",
    "\t\tThe metallic glass dataset gives two columns with information about the material\n",
    "\t\tComposition. The first is the overall composition, and the second is the highest\n",
    "\t\tComposition element. The columns from four to the end are the MAGPIE features that\n",
    "\t\thave been generated from the material composition column and give values such as\n",
    "\t\tproperties averaged over the material composition as well as features that are only for \n",
    "\t\tthe majority element in each alloy [3]. The majority element features are labelled as \n",
    "\t\t\"site1\".\n",
    "\t\t\n",
    "\tY property:\n",
    "\t\tThe reduced glass transition temperature (Trg) has historically been used as a rough \n",
    "\t\tpredictor for Glass Forming Ability (GFA). By making a model to predict Trg for an \n",
    "\t\tarbitrary alloy, it could be possible to use these values to estimate GFA directly, or as \n",
    "\t\tinput for another model to then predict GFA."
   ]
  },
  {
   "cell_type": "markdown",
   "id": "biblical-sunglasses",
   "metadata": {},
   "source": [
    "# loading libraries"
   ]
  },
  {
   "cell_type": "code",
   "execution_count": 37,
   "id": "informed-static",
   "metadata": {
    "scrolled": false
   },
   "outputs": [
    {
     "name": "stderr",
     "output_type": "stream",
     "text": [
      "Warning message:\n",
      "\"package 'lares' is not available (for R version 3.6.1)\"Loading required package: testthat\n",
      "Warning message in library(package, lib.loc = lib.loc, character.only = TRUE, logical.return = TRUE, :\n",
      "\"there is no package called 'testthat'\"Loading required package: lares\n",
      "Warning message in library(package, lib.loc = lib.loc, character.only = TRUE, logical.return = TRUE, :\n",
      "\"there is no package called 'lares'\""
     ]
    },
    {
     "data": {
      "text/html": [
       "<dl class=dl-horizontal>\n",
       "\t<dt>data.table</dt>\n",
       "\t\t<dd>TRUE</dd>\n",
       "\t<dt>testthat</dt>\n",
       "\t\t<dd>FALSE</dd>\n",
       "\t<dt>gridExtra</dt>\n",
       "\t\t<dd>TRUE</dd>\n",
       "\t<dt>corrplot</dt>\n",
       "\t\t<dd>TRUE</dd>\n",
       "\t<dt>GGally</dt>\n",
       "\t\t<dd>TRUE</dd>\n",
       "\t<dt>ggplot2</dt>\n",
       "\t\t<dd>TRUE</dd>\n",
       "\t<dt>e1071</dt>\n",
       "\t\t<dd>TRUE</dd>\n",
       "\t<dt>dplyr</dt>\n",
       "\t\t<dd>TRUE</dd>\n",
       "\t<dt>tidyverse</dt>\n",
       "\t\t<dd>TRUE</dd>\n",
       "\t<dt>psych</dt>\n",
       "\t\t<dd>TRUE</dd>\n",
       "\t<dt>ggpubr</dt>\n",
       "\t\t<dd>TRUE</dd>\n",
       "\t<dt>MASS</dt>\n",
       "\t\t<dd>TRUE</dd>\n",
       "\t<dt>fastDummies</dt>\n",
       "\t\t<dd>TRUE</dd>\n",
       "\t<dt>lares</dt>\n",
       "\t\t<dd>FALSE</dd>\n",
       "</dl>\n"
      ],
      "text/latex": [
       "\\begin{description*}\n",
       "\\item[data.table] TRUE\n",
       "\\item[testthat] FALSE\n",
       "\\item[gridExtra] TRUE\n",
       "\\item[corrplot] TRUE\n",
       "\\item[GGally] TRUE\n",
       "\\item[ggplot2] TRUE\n",
       "\\item[e1071] TRUE\n",
       "\\item[dplyr] TRUE\n",
       "\\item[tidyverse] TRUE\n",
       "\\item[psych] TRUE\n",
       "\\item[ggpubr] TRUE\n",
       "\\item[MASS] TRUE\n",
       "\\item[fastDummies] TRUE\n",
       "\\item[lares] FALSE\n",
       "\\end{description*}\n"
      ],
      "text/markdown": [
       "data.table\n",
       ":   TRUEtestthat\n",
       ":   FALSEgridExtra\n",
       ":   TRUEcorrplot\n",
       ":   TRUEGGally\n",
       ":   TRUEggplot2\n",
       ":   TRUEe1071\n",
       ":   TRUEdplyr\n",
       ":   TRUEtidyverse\n",
       ":   TRUEpsych\n",
       ":   TRUEggpubr\n",
       ":   TRUEMASS\n",
       ":   TRUEfastDummies\n",
       ":   TRUElares\n",
       ":   FALSE\n",
       "\n"
      ],
      "text/plain": [
       " data.table    testthat   gridExtra    corrplot      GGally     ggplot2 \n",
       "       TRUE       FALSE        TRUE        TRUE        TRUE        TRUE \n",
       "      e1071       dplyr   tidyverse       psych      ggpubr        MASS \n",
       "       TRUE        TRUE        TRUE        TRUE        TRUE        TRUE \n",
       "fastDummies       lares \n",
       "       TRUE       FALSE "
      ]
     },
     "metadata": {},
     "output_type": "display_data"
    }
   ],
   "source": [
    "load.libraries <- c('data.table', 'testthat', 'gridExtra', 'corrplot', 'GGally', 'ggplot2', 'e1071', 'dplyr','tidyverse',\n",
    "                   'psych','ggpubr','MASS','fastDummies','lares')\n",
    "install.lib <- load.libraries[!load.libraries %in% installed.packages()]\n",
    "for(libs in install.lib) install.packages(libs, dependences = TRUE)\n",
    "sapply(load.libraries, require, character = TRUE)\n"
   ]
  },
  {
   "cell_type": "markdown",
   "id": "soviet-might",
   "metadata": {},
   "source": [
    "# Importing dataset"
   ]
  },
  {
   "cell_type": "code",
   "execution_count": 2,
   "id": "dietary-street",
   "metadata": {
    "scrolled": true
   },
   "outputs": [
    {
     "data": {
      "text/html": [
       "<table>\n",
       "<thead><tr><th scope=col>Material.compositions</th><th scope=col>main_element</th><th scope=col>Trg</th><th scope=col>Density_composition_average</th><th scope=col>IsBoron_composition_average</th><th scope=col>IsDBlock_composition_average</th><th scope=col>IsTransitionMetal_composition_average</th><th scope=col>NdValence_composition_average</th><th scope=col>NValance_composition_average</th><th scope=col>HeatVaporization_max_value</th><th scope=col>...</th><th scope=col>NdValence_difference</th><th scope=col>NsUnfilled_difference</th><th scope=col>valence_difference</th><th scope=col>Site1_Density</th><th scope=col>Site1_HeatCapacityMass</th><th scope=col>Site1_HeatFusion</th><th scope=col>Site1_IsDBlock</th><th scope=col>Site1_IsTransitionMetal</th><th scope=col>Site1_NdValence</th><th scope=col>Site1_SpecificHeatCapacity</th></tr></thead>\n",
       "<tbody>\n",
       "\t<tr><td>Ag10Cu35Zr55    </td><td>Zr              </td><td>0.534           </td><td> 0.57906932     </td><td>-0.5856000      </td><td> 1.0298821      </td><td> 1.0298821      </td><td> 0.5895359      </td><td> 0.2175710      </td><td> 0.563915       </td><td>...             </td><td> 0.4738515      </td><td> 0.8578491      </td><td> 0.2645033      </td><td> 1.091651       </td><td>-0.8870769      </td><td>-0.4544714      </td><td> 0.718014       </td><td> 0.718014       </td><td> 1.317680       </td><td>-0.8849937      </td></tr>\n",
       "\t<tr><td>Ag10Cu50Zr40    </td><td>Cu              </td><td>0.608           </td><td> 0.74840145     </td><td>-0.5856000      </td><td> 1.0298821      </td><td> 1.0298821      </td><td> 1.1762502      </td><td> 0.6539689      </td><td> 0.563915       </td><td>...             </td><td> 0.4738515      </td><td> 0.8578491      </td><td> 0.2645033      </td><td> 1.091651       </td><td>-0.8870769      </td><td>-0.4544714      </td><td> 0.718014       </td><td> 0.718014       </td><td> 1.317680       </td><td>-0.8849937      </td></tr>\n",
       "\t<tr><td>Ag10Cu55Zr35    </td><td>Cu              </td><td>0.609           </td><td> 0.80484550     </td><td>-0.5856000      </td><td> 1.0298821      </td><td> 1.0298821      </td><td> 1.3718216      </td><td> 0.7994348      </td><td> 0.563915       </td><td>...             </td><td> 0.4738515      </td><td> 0.8578491      </td><td> 0.2645033      </td><td> 1.091651       </td><td>-0.8870769      </td><td>-0.4544714      </td><td> 0.718014       </td><td> 0.718014       </td><td> 1.317680       </td><td>-0.8849937      </td></tr>\n",
       "\t<tr><td>Ag20Cu40Zr40    </td><td>Cu              </td><td>0.577           </td><td> 0.82197318     </td><td>-0.5856000      </td><td> 1.0298821      </td><td> 1.0298821      </td><td> 1.1762502      </td><td> 0.6539689      </td><td> 0.563915       </td><td>...             </td><td> 0.4738515      </td><td> 0.8578491      </td><td> 0.2645033      </td><td> 1.091651       </td><td>-0.8870769      </td><td>-0.4544714      </td><td> 0.718014       </td><td> 0.718014       </td><td> 1.317680       </td><td>-0.8849937      </td></tr>\n",
       "\t<tr><td>Ag35Ca65        </td><td>Ca              </td><td>0.515           </td><td>-0.86099185     </td><td>-0.5856000      </td><td>-0.9989612      </td><td>-0.9989612      </td><td>-0.4372142      </td><td>-0.6136631      </td><td>-1.684370       </td><td>...             </td><td> 1.0059113      </td><td> 0.8578491      </td><td>-1.7450349      </td><td> 1.091651       </td><td>-0.8870769      </td><td>-0.4544714      </td><td> 0.718014       </td><td> 0.718014       </td><td> 1.317680       </td><td>-0.8849937      </td></tr>\n",
       "\t<tr><td>Al13.3Co26.7Zr60</td><td>Zr              </td><td>0.573           </td><td> 0.05888908     </td><td> 0.4642294      </td><td> 0.6147495      </td><td> 0.6147495      </td><td>-0.6479424      </td><td>-0.5920510      </td><td> 0.563915       </td><td>...             </td><td>-0.3242381      </td><td>-1.1657062      </td><td>-0.7402658      </td><td>-1.139306       </td><td> 1.5622891      </td><td>-0.5844290      </td><td>-1.392731       </td><td>-1.392731       </td><td>-1.106354       </td><td> 1.5750435      </td></tr>\n",
       "</tbody>\n",
       "</table>\n"
      ],
      "text/latex": [
       "\\begin{tabular}{r|lllllllllllllllllllllll}\n",
       " Material.compositions & main\\_element & Trg & Density\\_composition\\_average & IsBoron\\_composition\\_average & IsDBlock\\_composition\\_average & IsTransitionMetal\\_composition\\_average & NdValence\\_composition\\_average & NValance\\_composition\\_average & HeatVaporization\\_max\\_value & ... & NdValence\\_difference & NsUnfilled\\_difference & valence\\_difference & Site1\\_Density & Site1\\_HeatCapacityMass & Site1\\_HeatFusion & Site1\\_IsDBlock & Site1\\_IsTransitionMetal & Site1\\_NdValence & Site1\\_SpecificHeatCapacity\\\\\n",
       "\\hline\n",
       "\t Ag10Cu35Zr55     & Zr               & 0.534            &  0.57906932      & -0.5856000       &  1.0298821       &  1.0298821       &  0.5895359       &  0.2175710       &  0.563915        & ...              &  0.4738515       &  0.8578491       &  0.2645033       &  1.091651        & -0.8870769       & -0.4544714       &  0.718014        &  0.718014        &  1.317680        & -0.8849937      \\\\\n",
       "\t Ag10Cu50Zr40     & Cu               & 0.608            &  0.74840145      & -0.5856000       &  1.0298821       &  1.0298821       &  1.1762502       &  0.6539689       &  0.563915        & ...              &  0.4738515       &  0.8578491       &  0.2645033       &  1.091651        & -0.8870769       & -0.4544714       &  0.718014        &  0.718014        &  1.317680        & -0.8849937      \\\\\n",
       "\t Ag10Cu55Zr35     & Cu               & 0.609            &  0.80484550      & -0.5856000       &  1.0298821       &  1.0298821       &  1.3718216       &  0.7994348       &  0.563915        & ...              &  0.4738515       &  0.8578491       &  0.2645033       &  1.091651        & -0.8870769       & -0.4544714       &  0.718014        &  0.718014        &  1.317680        & -0.8849937      \\\\\n",
       "\t Ag20Cu40Zr40     & Cu               & 0.577            &  0.82197318      & -0.5856000       &  1.0298821       &  1.0298821       &  1.1762502       &  0.6539689       &  0.563915        & ...              &  0.4738515       &  0.8578491       &  0.2645033       &  1.091651        & -0.8870769       & -0.4544714       &  0.718014        &  0.718014        &  1.317680        & -0.8849937      \\\\\n",
       "\t Ag35Ca65         & Ca               & 0.515            & -0.86099185      & -0.5856000       & -0.9989612       & -0.9989612       & -0.4372142       & -0.6136631       & -1.684370        & ...              &  1.0059113       &  0.8578491       & -1.7450349       &  1.091651        & -0.8870769       & -0.4544714       &  0.718014        &  0.718014        &  1.317680        & -0.8849937      \\\\\n",
       "\t Al13.3Co26.7Zr60 & Zr               & 0.573            &  0.05888908      &  0.4642294       &  0.6147495       &  0.6147495       & -0.6479424       & -0.5920510       &  0.563915        & ...              & -0.3242381       & -1.1657062       & -0.7402658       & -1.139306        &  1.5622891       & -0.5844290       & -1.392731        & -1.392731        & -1.106354        &  1.5750435      \\\\\n",
       "\\end{tabular}\n"
      ],
      "text/markdown": [
       "\n",
       "| Material.compositions | main_element | Trg | Density_composition_average | IsBoron_composition_average | IsDBlock_composition_average | IsTransitionMetal_composition_average | NdValence_composition_average | NValance_composition_average | HeatVaporization_max_value | ... | NdValence_difference | NsUnfilled_difference | valence_difference | Site1_Density | Site1_HeatCapacityMass | Site1_HeatFusion | Site1_IsDBlock | Site1_IsTransitionMetal | Site1_NdValence | Site1_SpecificHeatCapacity |\n",
       "|---|---|---|---|---|---|---|---|---|---|---|---|---|---|---|---|---|---|---|---|---|\n",
       "| Ag10Cu35Zr55     | Zr               | 0.534            |  0.57906932      | -0.5856000       |  1.0298821       |  1.0298821       |  0.5895359       |  0.2175710       |  0.563915        | ...              |  0.4738515       |  0.8578491       |  0.2645033       |  1.091651        | -0.8870769       | -0.4544714       |  0.718014        |  0.718014        |  1.317680        | -0.8849937       |\n",
       "| Ag10Cu50Zr40     | Cu               | 0.608            |  0.74840145      | -0.5856000       |  1.0298821       |  1.0298821       |  1.1762502       |  0.6539689       |  0.563915        | ...              |  0.4738515       |  0.8578491       |  0.2645033       |  1.091651        | -0.8870769       | -0.4544714       |  0.718014        |  0.718014        |  1.317680        | -0.8849937       |\n",
       "| Ag10Cu55Zr35     | Cu               | 0.609            |  0.80484550      | -0.5856000       |  1.0298821       |  1.0298821       |  1.3718216       |  0.7994348       |  0.563915        | ...              |  0.4738515       |  0.8578491       |  0.2645033       |  1.091651        | -0.8870769       | -0.4544714       |  0.718014        |  0.718014        |  1.317680        | -0.8849937       |\n",
       "| Ag20Cu40Zr40     | Cu               | 0.577            |  0.82197318      | -0.5856000       |  1.0298821       |  1.0298821       |  1.1762502       |  0.6539689       |  0.563915        | ...              |  0.4738515       |  0.8578491       |  0.2645033       |  1.091651        | -0.8870769       | -0.4544714       |  0.718014        |  0.718014        |  1.317680        | -0.8849937       |\n",
       "| Ag35Ca65         | Ca               | 0.515            | -0.86099185      | -0.5856000       | -0.9989612       | -0.9989612       | -0.4372142       | -0.6136631       | -1.684370        | ...              |  1.0059113       |  0.8578491       | -1.7450349       |  1.091651        | -0.8870769       | -0.4544714       |  0.718014        |  0.718014        |  1.317680        | -0.8849937       |\n",
       "| Al13.3Co26.7Zr60 | Zr               | 0.573            |  0.05888908      |  0.4642294       |  0.6147495       |  0.6147495       | -0.6479424       | -0.5920510       |  0.563915        | ...              | -0.3242381       | -1.1657062       | -0.7402658       | -1.139306        |  1.5622891       | -0.5844290       | -1.392731        | -1.392731        | -1.106354        |  1.5750435       |\n",
       "\n"
      ],
      "text/plain": [
       "  Material.compositions main_element Trg   Density_composition_average\n",
       "1 Ag10Cu35Zr55          Zr           0.534  0.57906932                \n",
       "2 Ag10Cu50Zr40          Cu           0.608  0.74840145                \n",
       "3 Ag10Cu55Zr35          Cu           0.609  0.80484550                \n",
       "4 Ag20Cu40Zr40          Cu           0.577  0.82197318                \n",
       "5 Ag35Ca65              Ca           0.515 -0.86099185                \n",
       "6 Al13.3Co26.7Zr60      Zr           0.573  0.05888908                \n",
       "  IsBoron_composition_average IsDBlock_composition_average\n",
       "1 -0.5856000                   1.0298821                  \n",
       "2 -0.5856000                   1.0298821                  \n",
       "3 -0.5856000                   1.0298821                  \n",
       "4 -0.5856000                   1.0298821                  \n",
       "5 -0.5856000                  -0.9989612                  \n",
       "6  0.4642294                   0.6147495                  \n",
       "  IsTransitionMetal_composition_average NdValence_composition_average\n",
       "1  1.0298821                             0.5895359                   \n",
       "2  1.0298821                             1.1762502                   \n",
       "3  1.0298821                             1.3718216                   \n",
       "4  1.0298821                             1.1762502                   \n",
       "5 -0.9989612                            -0.4372142                   \n",
       "6  0.6147495                            -0.6479424                   \n",
       "  NValance_composition_average HeatVaporization_max_value ...\n",
       "1  0.2175710                    0.563915                  ...\n",
       "2  0.6539689                    0.563915                  ...\n",
       "3  0.7994348                    0.563915                  ...\n",
       "4  0.6539689                    0.563915                  ...\n",
       "5 -0.6136631                   -1.684370                  ...\n",
       "6 -0.5920510                    0.563915                  ...\n",
       "  NdValence_difference NsUnfilled_difference valence_difference Site1_Density\n",
       "1  0.4738515            0.8578491             0.2645033          1.091651    \n",
       "2  0.4738515            0.8578491             0.2645033          1.091651    \n",
       "3  0.4738515            0.8578491             0.2645033          1.091651    \n",
       "4  0.4738515            0.8578491             0.2645033          1.091651    \n",
       "5  1.0059113            0.8578491            -1.7450349          1.091651    \n",
       "6 -0.3242381           -1.1657062            -0.7402658         -1.139306    \n",
       "  Site1_HeatCapacityMass Site1_HeatFusion Site1_IsDBlock\n",
       "1 -0.8870769             -0.4544714        0.718014     \n",
       "2 -0.8870769             -0.4544714        0.718014     \n",
       "3 -0.8870769             -0.4544714        0.718014     \n",
       "4 -0.8870769             -0.4544714        0.718014     \n",
       "5 -0.8870769             -0.4544714        0.718014     \n",
       "6  1.5622891             -0.5844290       -1.392731     \n",
       "  Site1_IsTransitionMetal Site1_NdValence Site1_SpecificHeatCapacity\n",
       "1  0.718014                1.317680       -0.8849937                \n",
       "2  0.718014                1.317680       -0.8849937                \n",
       "3  0.718014                1.317680       -0.8849937                \n",
       "4  0.718014                1.317680       -0.8849937                \n",
       "5  0.718014                1.317680       -0.8849937                \n",
       "6 -1.392731               -1.106354        1.5750435                "
      ]
     },
     "metadata": {},
     "output_type": "display_data"
    }
   ],
   "source": [
    "data<-read.csv(\"C:\\\\Users\\\\ADMIN\\\\Desktop\\\\data for data analysis\\\\stats project\\\\features.csv\")\n",
    "df<-as.data.frame(data)\n",
    "#viewing the datset\n",
    "head(df)"
   ]
  },
  {
   "cell_type": "markdown",
   "id": "attended-amplifier",
   "metadata": {},
   "source": [
    "***DATA DIMENSIONS***"
   ]
  },
  {
   "cell_type": "code",
   "execution_count": 3,
   "id": "metropolitan-opposition",
   "metadata": {},
   "outputs": [
    {
     "data": {
      "text/html": [
       "<ol class=list-inline>\n",
       "\t<li>585</li>\n",
       "\t<li>23</li>\n",
       "</ol>\n"
      ],
      "text/latex": [
       "\\begin{enumerate*}\n",
       "\\item 585\n",
       "\\item 23\n",
       "\\end{enumerate*}\n"
      ],
      "text/markdown": [
       "1. 585\n",
       "2. 23\n",
       "\n",
       "\n"
      ],
      "text/plain": [
       "[1] 585  23"
      ]
     },
     "metadata": {},
     "output_type": "display_data"
    }
   ],
   "source": [
    "dim(df)"
   ]
  },
  {
   "cell_type": "markdown",
   "id": "lyric-million",
   "metadata": {},
   "source": [
    "the target depends upon the 22 features"
   ]
  },
  {
   "cell_type": "markdown",
   "id": "productive-surrey",
   "metadata": {},
   "source": [
    "***FEATURE TYPES***"
   ]
  },
  {
   "cell_type": "code",
   "execution_count": 4,
   "id": "favorite-adolescent",
   "metadata": {},
   "outputs": [
    {
     "name": "stdout",
     "output_type": "stream",
     "text": [
      "'data.frame':\t585 obs. of  23 variables:\n",
      " $ Material.compositions                : Factor w/ 585 levels \"Ag10Cu35Zr55\",..: 1 2 3 4 5 6 7 8 9 10 ...\n",
      " $ main_element                         : Factor w/ 27 levels \"Al\",\"Au\",\"Be\",..: 27 7 7 7 4 27 27 4 27 23 ...\n",
      " $ Trg                                  : num  0.534 0.608 0.609 0.577 0.515 0.573 0.565 0.545 0.572 0.527 ...\n",
      " $ Density_composition_average          : num  0.579 0.748 0.805 0.822 -0.861 ...\n",
      " $ IsBoron_composition_average          : num  -0.586 -0.586 -0.586 -0.586 -0.586 ...\n",
      " $ IsDBlock_composition_average         : num  1.03 1.03 1.03 1.03 -0.999 ...\n",
      " $ IsTransitionMetal_composition_average: num  1.03 1.03 1.03 1.03 -0.999 ...\n",
      " $ NdValence_composition_average        : num  0.59 1.176 1.372 1.176 -0.437 ...\n",
      " $ NValance_composition_average         : num  0.218 0.654 0.799 0.654 -0.614 ...\n",
      " $ HeatVaporization_max_value           : num  0.564 0.564 0.564 0.564 -1.684 ...\n",
      " $ BoilingT_difference                  : num  0.545 0.545 0.545 0.545 -1.369 ...\n",
      " $ HeatVaporization_difference          : num  0.506 0.506 0.506 0.506 -1.228 ...\n",
      " $ MeltingT_difference                  : num  -0.236 -0.236 -0.236 -0.236 -1.43 ...\n",
      " $ NdValence_difference                 : num  0.474 0.474 0.474 0.474 1.006 ...\n",
      " $ NsUnfilled_difference                : num  0.858 0.858 0.858 0.858 0.858 ...\n",
      " $ valence_difference                   : num  0.265 0.265 0.265 0.265 -1.745 ...\n",
      " $ Site1_Density                        : num  1.09 1.09 1.09 1.09 1.09 ...\n",
      " $ Site1_HeatCapacityMass               : num  -0.887 -0.887 -0.887 -0.887 -0.887 ...\n",
      " $ Site1_HeatFusion                     : num  -0.454 -0.454 -0.454 -0.454 -0.454 ...\n",
      " $ Site1_IsDBlock                       : num  0.718 0.718 0.718 0.718 0.718 ...\n",
      " $ Site1_IsTransitionMetal              : num  0.718 0.718 0.718 0.718 0.718 ...\n",
      " $ Site1_NdValence                      : num  1.32 1.32 1.32 1.32 1.32 ...\n",
      " $ Site1_SpecificHeatCapacity           : num  -0.885 -0.885 -0.885 -0.885 -0.885 ...\n"
     ]
    }
   ],
   "source": [
    "str(df)"
   ]
  },
  {
   "cell_type": "markdown",
   "id": "soviet-naples",
   "metadata": {},
   "source": [
    "OBSERVATION:::\n",
    "1. \"Material.compositions\" & \"main_element \" are the two categorical features, all others\n",
    "are numerical ones"
   ]
  },
  {
   "cell_type": "markdown",
   "id": "living-construction",
   "metadata": {},
   "source": [
    "***CHECKING FOR MISSING VALUES***"
   ]
  },
  {
   "cell_type": "code",
   "execution_count": 5,
   "id": "destroyed-hygiene",
   "metadata": {},
   "outputs": [
    {
     "data": {
      "text/html": [
       "<dl class=dl-horizontal>\n",
       "\t<dt>Material.compositions</dt>\n",
       "\t\t<dd>0</dd>\n",
       "\t<dt>main_element</dt>\n",
       "\t\t<dd>0</dd>\n",
       "\t<dt>Trg</dt>\n",
       "\t\t<dd>0</dd>\n",
       "\t<dt>Density_composition_average</dt>\n",
       "\t\t<dd>0</dd>\n",
       "\t<dt>IsBoron_composition_average</dt>\n",
       "\t\t<dd>0</dd>\n",
       "\t<dt>IsDBlock_composition_average</dt>\n",
       "\t\t<dd>0</dd>\n",
       "\t<dt>IsTransitionMetal_composition_average</dt>\n",
       "\t\t<dd>0</dd>\n",
       "\t<dt>NdValence_composition_average</dt>\n",
       "\t\t<dd>0</dd>\n",
       "\t<dt>NValance_composition_average</dt>\n",
       "\t\t<dd>0</dd>\n",
       "\t<dt>HeatVaporization_max_value</dt>\n",
       "\t\t<dd>0</dd>\n",
       "\t<dt>BoilingT_difference</dt>\n",
       "\t\t<dd>0</dd>\n",
       "\t<dt>HeatVaporization_difference</dt>\n",
       "\t\t<dd>0</dd>\n",
       "\t<dt>MeltingT_difference</dt>\n",
       "\t\t<dd>0</dd>\n",
       "\t<dt>NdValence_difference</dt>\n",
       "\t\t<dd>0</dd>\n",
       "\t<dt>NsUnfilled_difference</dt>\n",
       "\t\t<dd>0</dd>\n",
       "\t<dt>valence_difference</dt>\n",
       "\t\t<dd>0</dd>\n",
       "\t<dt>Site1_Density</dt>\n",
       "\t\t<dd>0</dd>\n",
       "\t<dt>Site1_HeatCapacityMass</dt>\n",
       "\t\t<dd>0</dd>\n",
       "\t<dt>Site1_HeatFusion</dt>\n",
       "\t\t<dd>0</dd>\n",
       "\t<dt>Site1_IsDBlock</dt>\n",
       "\t\t<dd>0</dd>\n",
       "\t<dt>Site1_IsTransitionMetal</dt>\n",
       "\t\t<dd>0</dd>\n",
       "\t<dt>Site1_NdValence</dt>\n",
       "\t\t<dd>0</dd>\n",
       "\t<dt>Site1_SpecificHeatCapacity</dt>\n",
       "\t\t<dd>0</dd>\n",
       "</dl>\n"
      ],
      "text/latex": [
       "\\begin{description*}\n",
       "\\item[Material.compositions] 0\n",
       "\\item[main\\textbackslash{}\\_element] 0\n",
       "\\item[Trg] 0\n",
       "\\item[Density\\textbackslash{}\\_composition\\textbackslash{}\\_average] 0\n",
       "\\item[IsBoron\\textbackslash{}\\_composition\\textbackslash{}\\_average] 0\n",
       "\\item[IsDBlock\\textbackslash{}\\_composition\\textbackslash{}\\_average] 0\n",
       "\\item[IsTransitionMetal\\textbackslash{}\\_composition\\textbackslash{}\\_average] 0\n",
       "\\item[NdValence\\textbackslash{}\\_composition\\textbackslash{}\\_average] 0\n",
       "\\item[NValance\\textbackslash{}\\_composition\\textbackslash{}\\_average] 0\n",
       "\\item[HeatVaporization\\textbackslash{}\\_max\\textbackslash{}\\_value] 0\n",
       "\\item[BoilingT\\textbackslash{}\\_difference] 0\n",
       "\\item[HeatVaporization\\textbackslash{}\\_difference] 0\n",
       "\\item[MeltingT\\textbackslash{}\\_difference] 0\n",
       "\\item[NdValence\\textbackslash{}\\_difference] 0\n",
       "\\item[NsUnfilled\\textbackslash{}\\_difference] 0\n",
       "\\item[valence\\textbackslash{}\\_difference] 0\n",
       "\\item[Site1\\textbackslash{}\\_Density] 0\n",
       "\\item[Site1\\textbackslash{}\\_HeatCapacityMass] 0\n",
       "\\item[Site1\\textbackslash{}\\_HeatFusion] 0\n",
       "\\item[Site1\\textbackslash{}\\_IsDBlock] 0\n",
       "\\item[Site1\\textbackslash{}\\_IsTransitionMetal] 0\n",
       "\\item[Site1\\textbackslash{}\\_NdValence] 0\n",
       "\\item[Site1\\textbackslash{}\\_SpecificHeatCapacity] 0\n",
       "\\end{description*}\n"
      ],
      "text/markdown": [
       "Material.compositions\n",
       ":   0main_element\n",
       ":   0Trg\n",
       ":   0Density_composition_average\n",
       ":   0IsBoron_composition_average\n",
       ":   0IsDBlock_composition_average\n",
       ":   0IsTransitionMetal_composition_average\n",
       ":   0NdValence_composition_average\n",
       ":   0NValance_composition_average\n",
       ":   0HeatVaporization_max_value\n",
       ":   0BoilingT_difference\n",
       ":   0HeatVaporization_difference\n",
       ":   0MeltingT_difference\n",
       ":   0NdValence_difference\n",
       ":   0NsUnfilled_difference\n",
       ":   0valence_difference\n",
       ":   0Site1_Density\n",
       ":   0Site1_HeatCapacityMass\n",
       ":   0Site1_HeatFusion\n",
       ":   0Site1_IsDBlock\n",
       ":   0Site1_IsTransitionMetal\n",
       ":   0Site1_NdValence\n",
       ":   0Site1_SpecificHeatCapacity\n",
       ":   0\n",
       "\n"
      ],
      "text/plain": [
       "                Material.compositions                          main_element \n",
       "                                    0                                     0 \n",
       "                                  Trg           Density_composition_average \n",
       "                                    0                                     0 \n",
       "          IsBoron_composition_average          IsDBlock_composition_average \n",
       "                                    0                                     0 \n",
       "IsTransitionMetal_composition_average         NdValence_composition_average \n",
       "                                    0                                     0 \n",
       "         NValance_composition_average            HeatVaporization_max_value \n",
       "                                    0                                     0 \n",
       "                  BoilingT_difference           HeatVaporization_difference \n",
       "                                    0                                     0 \n",
       "                  MeltingT_difference                  NdValence_difference \n",
       "                                    0                                     0 \n",
       "                NsUnfilled_difference                    valence_difference \n",
       "                                    0                                     0 \n",
       "                        Site1_Density                Site1_HeatCapacityMass \n",
       "                                    0                                     0 \n",
       "                     Site1_HeatFusion                        Site1_IsDBlock \n",
       "                                    0                                     0 \n",
       "              Site1_IsTransitionMetal                       Site1_NdValence \n",
       "                                    0                                     0 \n",
       "           Site1_SpecificHeatCapacity \n",
       "                                    0 "
      ]
     },
     "metadata": {},
     "output_type": "display_data"
    }
   ],
   "source": [
    "colSums(sapply(df, is.na))"
   ]
  },
  {
   "cell_type": "markdown",
   "id": "powered-haiti",
   "metadata": {},
   "source": [
    "OBSERVATION:::\n",
    "1.  there are no missing values in any of the features including the target variable, no need to perform missing \n",
    "value imputation on the dataset"
   ]
  },
  {
   "cell_type": "markdown",
   "id": "outer-lawrence",
   "metadata": {},
   "source": [
    "## Univariate analysis of the features"
   ]
  },
  {
   "cell_type": "markdown",
   "id": "former-recording",
   "metadata": {},
   "source": [
    "***FEATURE STATISTICS***"
   ]
  },
  {
   "cell_type": "code",
   "execution_count": 71,
   "id": "parallel-inquiry",
   "metadata": {},
   "outputs": [
    {
     "data": {
      "text/plain": [
       "      Material.compositions  main_element      Trg        \n",
       " Ag10Cu35Zr55    :  1       Cu     :113   Min.   :0.2230  \n",
       " Ag10Cu50Zr40    :  1       Zr     : 95   1st Qu.:0.5570  \n",
       " Ag10Cu55Zr35    :  1       Fe     : 70   Median :0.5840  \n",
       " Ag20Cu40Zr40    :  1       Ca     : 68   Mean   :0.5774  \n",
       " Ag35Ca65        :  1       Mg     : 49   3rd Qu.:0.6090  \n",
       " Al13.3Co26.7Zr60:  1       Ni     : 38   Max.   :0.6880  \n",
       " (Other)         :579       (Other):152                   \n",
       " Density_composition_average IsBoron_composition_average\n",
       " Min.   :-2.2964             Min.   :-0.5856            \n",
       " 1st Qu.:-0.6580             1st Qu.:-0.5856            \n",
       " Median : 0.1413             Median :-0.5856            \n",
       " Mean   : 0.0000             Mean   : 0.0000            \n",
       " 3rd Qu.: 0.4915             3rd Qu.: 0.2045            \n",
       " Max.   : 4.4187             Max.   : 6.4790            \n",
       "                                                        \n",
       " IsDBlock_composition_average IsTransitionMetal_composition_average\n",
       " Min.   :-2.0914              Min.   :-2.0914                      \n",
       " 1st Qu.:-1.1550              1st Qu.:-1.1550                      \n",
       " Median : 0.3744              Median : 0.3744                      \n",
       " Mean   : 0.0000              Mean   : 0.0000                      \n",
       " 3rd Qu.: 0.8270              3rd Qu.: 0.8270                      \n",
       " Max.   : 1.0299              Max.   : 1.0299                      \n",
       "                                                                   \n",
       " NdValence_composition_average NValance_composition_average\n",
       " Min.   :-2.14846              Min.   :-1.92286            \n",
       " 1st Qu.:-0.84351              1st Qu.:-0.70925            \n",
       " Median : 0.04683              Median : 0.05548            \n",
       " Mean   : 0.00000              Mean   : 0.00000            \n",
       " 3rd Qu.: 0.78511              3rd Qu.: 0.48772            \n",
       " Max.   : 2.49636              Max.   : 6.27228            \n",
       "                                                           \n",
       " HeatVaporization_max_value BoilingT_difference HeatVaporization_difference\n",
       " Min.   :-2.4367            Min.   :-2.1189     Min.   :-1.8446            \n",
       " 1st Qu.:-0.7406            1st Qu.:-0.5226     1st Qu.:-0.7852            \n",
       " Median : 0.5639            Median : 0.1006     Median : 0.1761            \n",
       " Mean   : 0.0000            Mean   : 0.0000     Mean   : 0.0000            \n",
       " 3rd Qu.: 0.5639            3rd Qu.: 0.4384     3rd Qu.: 0.5057            \n",
       " Max.   : 1.5330            Max.   : 3.2476     Max.   : 3.0847            \n",
       "                                                                           \n",
       " MeltingT_difference NdValence_difference NsUnfilled_difference\n",
       " Min.   :-1.4351     Min.   :-1.6544      Min.   :-1.1657      \n",
       " 1st Qu.:-0.5910     1st Qu.:-0.8563      1st Qu.:-1.1657      \n",
       " Median :-0.2356     Median : 0.4739      Median : 0.8578      \n",
       " Mean   : 0.0000     Mean   : 0.0000      Mean   : 0.0000      \n",
       " 3rd Qu.: 0.2301     3rd Qu.: 1.0059      3rd Qu.: 0.8578      \n",
       " Max.   : 3.8224     Max.   : 1.0059      Max.   : 0.8578      \n",
       "                                                               \n",
       " valence_difference Site1_Density      Site1_HeatCapacityMass\n",
       " Min.   :-1.7450    Min.   :-1.46865   Min.   :-1.2793       \n",
       " 1st Qu.:-0.7403    1st Qu.:-0.63183   1st Qu.:-0.7280       \n",
       " Median : 0.2645    Median : 0.09502   Median :-0.3321       \n",
       " Mean   : 0.0000    Mean   : 0.00000   Mean   : 0.0000       \n",
       " 3rd Qu.: 0.2645    3rd Qu.: 0.64202   3rd Qu.: 0.1822       \n",
       " Max.   : 2.2740    Max.   : 4.12736   Max.   : 4.9958       \n",
       "                                                             \n",
       " Site1_HeatFusion   Site1_IsDBlock   Site1_IsTransitionMetal Site1_NdValence  \n",
       " Min.   :-1.74083   Min.   :-1.393   Min.   :-1.393          Min.   :-1.1064  \n",
       " 1st Qu.:-1.06241   1st Qu.:-1.393   1st Qu.:-1.393          1st Qu.:-1.1064  \n",
       " Median : 0.05214   Median : 0.718   Median : 0.718          Median :-0.6215  \n",
       " Mean   : 0.00000   Mean   : 0.000   Mean   : 0.000          Mean   : 0.0000  \n",
       " 3rd Qu.: 0.74378   3rd Qu.: 0.718   3rd Qu.: 0.718          3rd Qu.: 1.3177  \n",
       " Max.   : 3.66452   Max.   : 0.718   Max.   : 0.718          Max.   : 1.3177  \n",
       "                                                                              \n",
       " Site1_SpecificHeatCapacity\n",
       " Min.   :-1.2808           \n",
       " 1st Qu.:-0.7259           \n",
       " Median :-0.3301           \n",
       " Mean   : 0.0000           \n",
       " 3rd Qu.: 0.1804           \n",
       " Max.   : 4.9969           \n",
       "                           "
      ]
     },
     "metadata": {},
     "output_type": "display_data"
    }
   ],
   "source": [
    "summary(df)\n"
   ]
  },
  {
   "cell_type": "markdown",
   "id": "bronze-flood",
   "metadata": {},
   "source": [
    "***DENSITY PLOTS OF ALL THE NUMERICAL FEATURES***"
   ]
  },
  {
   "cell_type": "code",
   "execution_count": 34,
   "id": "separate-midwest",
   "metadata": {},
   "outputs": [
    {
     "data": {
      "image/png": "[encoded data removed]",
      "text/plain": [
       "plot without title"
      ]
     },
     "metadata": {},
     "output_type": "display_data"
    }
   ],
   "source": [
    "#distplots of multiple features\n",
    "df %>%\n",
    "  keep(is.numeric) %>%                     # Keep only numeric columns\n",
    "  gather() %>%                             # Convert to key-value pairs\n",
    "  ggplot(aes(value)) +                     # Plot the values\n",
    "    facet_wrap(~ key, scales = \"free\") +   # In separate panels\n",
    "    geom_density(fill=\"darkolivegreen3\")       # as density"
   ]
  },
  {
   "cell_type": "markdown",
   "id": "earlier-intent",
   "metadata": {},
   "source": [
    "OBSERVATIONS::: \n",
    "1. as it can seen all the variables have different distributions.\n",
    "2. The target variable \"glass transition temp\" is having a left skewed distribution.\n",
    "3. almost all the features have 2 or more peaks in the distribution.\n",
    "4. \"IsBoron_composition_average\" has an exponential distribution\n"
   ]
  },
  {
   "cell_type": "markdown",
   "id": "satisfactory-coach",
   "metadata": {},
   "source": [
    "***BOXPLOTS***"
   ]
  },
  {
   "cell_type": "code",
   "execution_count": 36,
   "id": "seven-vancouver",
   "metadata": {},
   "outputs": [
    {
     "data": {
      "image/png": "[encoded data removed]",
      "text/plain": [
       "plot without title"
      ]
     },
     "metadata": {},
     "output_type": "display_data"
    }
   ],
   "source": [
    "#boxplots\n",
    "df %>%\n",
    "  keep(is.numeric) %>%\n",
    "  gather() %>%                             \n",
    "  ggplot(aes(value)) +                     \n",
    "    facet_wrap(~ key, scales = \"free\") +   \n",
    "    geom_boxplot(outlier.colour=\"black\", outlier.shape=16,outlier.size=2, notch=FALSE,fill=\"brown1\")                         "
   ]
  },
  {
   "cell_type": "markdown",
   "id": "signal-stress",
   "metadata": {},
   "source": [
    "OBSERVATIONS::\n",
    "1. \"trg\" has too many outliers.\n",
    "2. features like \"Site_heatfusion\",\"site1_density\",\"site1_heatcapacitymass\",\"melting_temp_difference\",\"BoilingT_difference\",\"\n",
    "IsBoron_composition_average\" also contains outliers."
   ]
  },
  {
   "cell_type": "markdown",
   "id": "sorted-context",
   "metadata": {},
   "source": [
    "***COUNTPLOT***"
   ]
  },
  {
   "cell_type": "markdown",
   "id": "positive-economy",
   "metadata": {},
   "source": [
    "***countplot of \"main elements\"***"
   ]
  },
  {
   "cell_type": "code",
   "execution_count": 111,
   "id": "stopped-preference",
   "metadata": {},
   "outputs": [
    {
     "data": {
      "image/png": "[encoded data removed]",
      "text/plain": [
       "plot without title"
      ]
     },
     "metadata": {},
     "output_type": "display_data"
    }
   ],
   "source": [
    "x <- table(df$main_element)\n",
    "barplot(x,col=\"brown\",xlab=\"main element\",ylab=\"count\")"
   ]
  },
  {
   "cell_type": "markdown",
   "id": "worst-instrument",
   "metadata": {},
   "source": [
    "***TARGET FEATURE ANALYSIS***                  "
   ]
  },
  {
   "cell_type": "code",
   "execution_count": 18,
   "id": "tender-concert",
   "metadata": {},
   "outputs": [
    {
     "data": {
      "image/png": "[encoded data removed]",
      "text/plain": [
       "plot without title"
      ]
     },
     "metadata": {},
     "output_type": "display_data"
    }
   ],
   "source": [
    "#3chart plot \n",
    "theme_set(\n",
    "  theme_bw() +\n",
    "    theme(legend.position = \"top\")\n",
    ")\n",
    "tgt=function(txt) #Visualize the target\n",
    "{ds=ggplot(df,aes(Trg))+geom_histogram(color='black',fill=txt,bins = 50) #Skew? Kurtosis?\n",
    "bxp=ggplot(df,aes(Trg))+geom_boxplot(color='black',fill=txt) #Outliers?\n",
    "qq= ggplot(df,aes(sample=Trg))+ stat_qq() + stat_qq_line() #Normal distribution?\n",
    "ggarrange(ds, qq, bxp,\n",
    "          labels = c(\"A\", \"B\", \"C\"),\n",
    "          ncol = 2, nrow = 2)\n",
    "}\n",
    "tgt('aquamarine4')\n"
   ]
  },
  {
   "cell_type": "markdown",
   "id": "immediate-arbitration",
   "metadata": {},
   "source": [
    "OBSERVATIONS:::\n",
    "1. our target feature is 'reduced glass transition temperature' is the measure of GFA.\n",
    "2. the boxplot says that it contains outliers\n",
    "3. the distribution is left skewed.\n",
    "4. the qq plot suggests that there is a deviation from normal distribution."
   ]
  },
  {
   "cell_type": "markdown",
   "id": "centered-waterproof",
   "metadata": {},
   "source": [
    "# Bivariate analysis"
   ]
  },
  {
   "cell_type": "markdown",
   "id": "european-cheat",
   "metadata": {},
   "source": [
    "***CORRELATION BETWEEN THE FEATURES***"
   ]
  },
  {
   "cell_type": "code",
   "execution_count": 40,
   "id": "liquid-payday",
   "metadata": {},
   "outputs": [
    {
     "data": {
      "image/png": "[encoded data removed]",
      "text/plain": [
       "Plot with title \"\""
      ]
     },
     "metadata": {},
     "output_type": "display_data"
    }
   ],
   "source": [
    "#extracting the numericqal features \n",
    "df_numer <- subset(df, select = -c(Material.compositions,main_element) )\n",
    "#plotting a correlation matrix\n",
    "corrplot(cor(df_numer),method = \"square\",type=\"lower\")\n"
   ]
  },
  {
   "cell_type": "code",
   "execution_count": 46,
   "id": "aggregate-equivalent",
   "metadata": {},
   "outputs": [
    {
     "data": {
      "text/html": [
       "<table>\n",
       "<thead><tr><th scope=col>var1</th><th scope=col>var2</th><th scope=col>value</th></tr></thead>\n",
       "<tbody>\n",
       "\t<tr><td>Trg                          </td><td>Trg                          </td><td>1.0000000                    </td></tr>\n",
       "\t<tr><td>Site1_SpecificHeatCapacity   </td><td>Site1_HeatCapacityMass       </td><td>0.9999816                    </td></tr>\n",
       "\t<tr><td>Site1_IsDBlock               </td><td>IsDBlock_composition_average </td><td>0.9217491                    </td></tr>\n",
       "\t<tr><td>HeatVaporization_difference  </td><td>BoilingT_difference          </td><td>0.9095843                    </td></tr>\n",
       "\t<tr><td>NValance_composition_average </td><td>Density_composition_average  </td><td>0.9045063                    </td></tr>\n",
       "\t<tr><td>Site1_Density                </td><td>Density_composition_average  </td><td>0.9030622                    </td></tr>\n",
       "\t<tr><td>MeltingT_difference          </td><td>HeatVaporization_difference  </td><td>0.8635075                    </td></tr>\n",
       "\t<tr><td>NdValence_composition_average</td><td>Density_composition_average  </td><td>0.8632754                    </td></tr>\n",
       "\t<tr><td>Site1_NdValence              </td><td>NdValence_composition_average</td><td>0.8364252                    </td></tr>\n",
       "\t<tr><td>Site1_Density                </td><td>NValance_composition_average </td><td>0.8195043                    </td></tr>\n",
       "\t<tr><td>NValance_composition_average </td><td>NdValence_composition_average</td><td>0.8150236                    </td></tr>\n",
       "\t<tr><td>Site1_NdValence              </td><td>Site1_Density                </td><td>0.8148377                    </td></tr>\n",
       "\t<tr><td>NdValence_composition_average</td><td>IsDBlock_composition_average </td><td>0.8090395                    </td></tr>\n",
       "\t<tr><td>HeatVaporization_max_value   </td><td>IsDBlock_composition_average </td><td>0.7958483                    </td></tr>\n",
       "\t<tr><td>Site1_IsDBlock               </td><td>Site1_HeatFusion             </td><td>0.7921665                    </td></tr>\n",
       "\t<tr><td>Site1_Density                </td><td>NdValence_composition_average</td><td>0.7744904                    </td></tr>\n",
       "\t<tr><td>Site1_IsDBlock               </td><td>NdValence_composition_average</td><td>0.7692676                    </td></tr>\n",
       "\t<tr><td>Site1_IsDBlock               </td><td>HeatVaporization_max_value   </td><td>0.7672422                    </td></tr>\n",
       "\t<tr><td>MeltingT_difference          </td><td>BoilingT_difference          </td><td>0.7645436                    </td></tr>\n",
       "\t<tr><td>HeatVaporization_difference  </td><td>HeatVaporization_max_value   </td><td>0.7633996                    </td></tr>\n",
       "\t<tr><td>Site1_NdValence              </td><td>Site1_IsDBlock               </td><td>0.7480231                    </td></tr>\n",
       "\t<tr><td>Site1_NdValence              </td><td>Density_composition_average  </td><td>0.7388513                    </td></tr>\n",
       "\t<tr><td>IsDBlock_composition_average </td><td>Density_composition_average  </td><td>0.7382365                    </td></tr>\n",
       "\t<tr><td>Site1_HeatFusion             </td><td>IsDBlock_composition_average </td><td>0.7273011                    </td></tr>\n",
       "\t<tr><td>Site1_IsDBlock               </td><td>Site1_Density                </td><td>0.7247189                    </td></tr>\n",
       "\t<tr><td>Site1_NdValence              </td><td>IsDBlock_composition_average </td><td>0.7224929                    </td></tr>\n",
       "\t<tr><td>valence_difference           </td><td>HeatVaporization_max_value   </td><td>0.7091547                    </td></tr>\n",
       "\t<tr><td>Site1_IsDBlock               </td><td>Density_composition_average  </td><td>0.7037828                    </td></tr>\n",
       "\t<tr><td>Site1_NdValence              </td><td>NValance_composition_average </td><td>0.6987335                    </td></tr>\n",
       "\t<tr><td>Site1_IsDBlock               </td><td>valence_difference           </td><td>0.6656579                    </td></tr>\n",
       "\t<tr><td>...</td><td>...</td><td>...</td></tr>\n",
       "\t<tr><td>HeatVaporization_difference  </td><td>IsBoron_composition_average  </td><td>-0.2271828                   </td></tr>\n",
       "\t<tr><td>Site1_NdValence              </td><td>IsBoron_composition_average  </td><td>-0.2283752                   </td></tr>\n",
       "\t<tr><td>BoilingT_difference          </td><td>IsBoron_composition_average  </td><td>-0.2459723                   </td></tr>\n",
       "\t<tr><td>NValance_composition_average </td><td>IsBoron_composition_average  </td><td>-0.2494209                   </td></tr>\n",
       "\t<tr><td>Site1_SpecificHeatCapacity   </td><td>Trg                          </td><td>-0.2772762                   </td></tr>\n",
       "\t<tr><td>Site1_HeatCapacityMass       </td><td>Trg                          </td><td>-0.2778765                   </td></tr>\n",
       "\t<tr><td>IsBoron_composition_average  </td><td>Trg                          </td><td>-0.2813680                   </td></tr>\n",
       "\t<tr><td>IsDBlock_composition_average </td><td>IsBoron_composition_average  </td><td>-0.2919107                   </td></tr>\n",
       "\t<tr><td>Site1_SpecificHeatCapacity   </td><td>HeatVaporization_max_value   </td><td>-0.3037087                   </td></tr>\n",
       "\t<tr><td>Site1_HeatCapacityMass       </td><td>HeatVaporization_max_value   </td><td>-0.3052821                   </td></tr>\n",
       "\t<tr><td>NsUnfilled_difference        </td><td>IsBoron_composition_average  </td><td>-0.3169002                   </td></tr>\n",
       "\t<tr><td>Site1_SpecificHeatCapacity   </td><td>valence_difference           </td><td>-0.3464715                   </td></tr>\n",
       "\t<tr><td>Site1_HeatCapacityMass       </td><td>valence_difference           </td><td>-0.3469367                   </td></tr>\n",
       "\t<tr><td>NdValence_composition_average</td><td>IsBoron_composition_average  </td><td>-0.3831969                   </td></tr>\n",
       "\t<tr><td>Site1_SpecificHeatCapacity   </td><td>IsDBlock_composition_average </td><td>-0.4379714                   </td></tr>\n",
       "\t<tr><td>Site1_HeatCapacityMass       </td><td>IsDBlock_composition_average </td><td>-0.4401657                   </td></tr>\n",
       "\t<tr><td>Site1_SpecificHeatCapacity   </td><td>Site1_NdValence              </td><td>-0.4422271                   </td></tr>\n",
       "\t<tr><td>Site1_NdValence              </td><td>Site1_HeatCapacityMass       </td><td>-0.4438313                   </td></tr>\n",
       "\t<tr><td>Site1_SpecificHeatCapacity   </td><td>Site1_HeatFusion             </td><td>-0.4468464                   </td></tr>\n",
       "\t<tr><td>Site1_HeatFusion             </td><td>Site1_HeatCapacityMass       </td><td>-0.4491715                   </td></tr>\n",
       "\t<tr><td>Site1_SpecificHeatCapacity   </td><td>NValance_composition_average </td><td>-0.4894576                   </td></tr>\n",
       "\t<tr><td>Site1_HeatCapacityMass       </td><td>NValance_composition_average </td><td>-0.4899870                   </td></tr>\n",
       "\t<tr><td>Site1_SpecificHeatCapacity   </td><td>NdValence_composition_average</td><td>-0.5113853                   </td></tr>\n",
       "\t<tr><td>Site1_HeatCapacityMass       </td><td>NdValence_composition_average</td><td>-0.5123576                   </td></tr>\n",
       "\t<tr><td>Site1_SpecificHeatCapacity   </td><td>Site1_IsDBlock               </td><td>-0.5426390                   </td></tr>\n",
       "\t<tr><td>Site1_IsDBlock               </td><td>Site1_HeatCapacityMass       </td><td>-0.5448461                   </td></tr>\n",
       "\t<tr><td>Site1_SpecificHeatCapacity   </td><td>Density_composition_average  </td><td>-0.6288779                   </td></tr>\n",
       "\t<tr><td>Site1_HeatCapacityMass       </td><td>Density_composition_average  </td><td>-0.6292848                   </td></tr>\n",
       "\t<tr><td>Site1_SpecificHeatCapacity   </td><td>Site1_Density                </td><td>-0.6994991                   </td></tr>\n",
       "\t<tr><td>Site1_HeatCapacityMass       </td><td>Site1_Density                </td><td>-0.7002149                   </td></tr>\n",
       "</tbody>\n",
       "</table>\n"
      ],
      "text/latex": [
       "\\begin{tabular}{r|lll}\n",
       " var1 & var2 & value\\\\\n",
       "\\hline\n",
       "\t Trg                           & Trg                           & 1.0000000                    \\\\\n",
       "\t Site1\\_SpecificHeatCapacity    & Site1\\_HeatCapacityMass        & 0.9999816                      \\\\\n",
       "\t Site1\\_IsDBlock                  & IsDBlock\\_composition\\_average  & 0.9217491                        \\\\\n",
       "\t HeatVaporization\\_difference   & BoilingT\\_difference           & 0.9095843                      \\\\\n",
       "\t NValance\\_composition\\_average  & Density\\_composition\\_average   & 0.9045063                        \\\\\n",
       "\t Site1\\_Density                   & Density\\_composition\\_average   & 0.9030622                        \\\\\n",
       "\t MeltingT\\_difference           & HeatVaporization\\_difference   & 0.8635075                      \\\\\n",
       "\t NdValence\\_composition\\_average & Density\\_composition\\_average   & 0.8632754                        \\\\\n",
       "\t Site1\\_NdValence                 & NdValence\\_composition\\_average & 0.8364252                        \\\\\n",
       "\t Site1\\_Density                   & NValance\\_composition\\_average  & 0.8195043                        \\\\\n",
       "\t NValance\\_composition\\_average  & NdValence\\_composition\\_average & 0.8150236                        \\\\\n",
       "\t Site1\\_NdValence               & Site1\\_Density                 & 0.8148377                      \\\\\n",
       "\t NdValence\\_composition\\_average & IsDBlock\\_composition\\_average  & 0.8090395                        \\\\\n",
       "\t HeatVaporization\\_max\\_value    & IsDBlock\\_composition\\_average  & 0.7958483                        \\\\\n",
       "\t Site1\\_IsDBlock                & Site1\\_HeatFusion              & 0.7921665                      \\\\\n",
       "\t Site1\\_Density                   & NdValence\\_composition\\_average & 0.7744904                        \\\\\n",
       "\t Site1\\_IsDBlock                  & NdValence\\_composition\\_average & 0.7692676                        \\\\\n",
       "\t Site1\\_IsDBlock                  & HeatVaporization\\_max\\_value    & 0.7672422                        \\\\\n",
       "\t MeltingT\\_difference           & BoilingT\\_difference           & 0.7645436                      \\\\\n",
       "\t HeatVaporization\\_difference     & HeatVaporization\\_max\\_value    & 0.7633996                        \\\\\n",
       "\t Site1\\_NdValence               & Site1\\_IsDBlock                & 0.7480231                      \\\\\n",
       "\t Site1\\_NdValence                 & Density\\_composition\\_average   & 0.7388513                        \\\\\n",
       "\t IsDBlock\\_composition\\_average  & Density\\_composition\\_average   & 0.7382365                        \\\\\n",
       "\t Site1\\_HeatFusion                & IsDBlock\\_composition\\_average  & 0.7273011                        \\\\\n",
       "\t Site1\\_IsDBlock                & Site1\\_Density                 & 0.7247189                      \\\\\n",
       "\t Site1\\_NdValence                 & IsDBlock\\_composition\\_average  & 0.7224929                        \\\\\n",
       "\t valence\\_difference              & HeatVaporization\\_max\\_value    & 0.7091547                        \\\\\n",
       "\t Site1\\_IsDBlock                  & Density\\_composition\\_average   & 0.7037828                        \\\\\n",
       "\t Site1\\_NdValence                 & NValance\\_composition\\_average  & 0.6987335                        \\\\\n",
       "\t Site1\\_IsDBlock                & valence\\_difference            & 0.6656579                      \\\\\n",
       "\t ... & ... & ...\\\\\n",
       "\t HeatVaporization\\_difference     & IsBoron\\_composition\\_average   & -0.2271828                       \\\\\n",
       "\t Site1\\_NdValence                 & IsBoron\\_composition\\_average   & -0.2283752                       \\\\\n",
       "\t BoilingT\\_difference             & IsBoron\\_composition\\_average   & -0.2459723                       \\\\\n",
       "\t NValance\\_composition\\_average  & IsBoron\\_composition\\_average   & -0.2494209                       \\\\\n",
       "\t Site1\\_SpecificHeatCapacity    & Trg                             & -0.2772762                     \\\\\n",
       "\t Site1\\_HeatCapacityMass        & Trg                             & -0.2778765                     \\\\\n",
       "\t IsBoron\\_composition\\_average   & Trg                               & -0.2813680                       \\\\\n",
       "\t IsDBlock\\_composition\\_average  & IsBoron\\_composition\\_average   & -0.2919107                       \\\\\n",
       "\t Site1\\_SpecificHeatCapacity      & HeatVaporization\\_max\\_value    & -0.3037087                       \\\\\n",
       "\t Site1\\_HeatCapacityMass          & HeatVaporization\\_max\\_value    & -0.3052821                       \\\\\n",
       "\t NsUnfilled\\_difference           & IsBoron\\_composition\\_average   & -0.3169002                       \\\\\n",
       "\t Site1\\_SpecificHeatCapacity    & valence\\_difference            & -0.3464715                     \\\\\n",
       "\t Site1\\_HeatCapacityMass        & valence\\_difference            & -0.3469367                     \\\\\n",
       "\t NdValence\\_composition\\_average & IsBoron\\_composition\\_average   & -0.3831969                       \\\\\n",
       "\t Site1\\_SpecificHeatCapacity      & IsDBlock\\_composition\\_average  & -0.4379714                       \\\\\n",
       "\t Site1\\_HeatCapacityMass          & IsDBlock\\_composition\\_average  & -0.4401657                       \\\\\n",
       "\t Site1\\_SpecificHeatCapacity    & Site1\\_NdValence               & -0.4422271                     \\\\\n",
       "\t Site1\\_NdValence               & Site1\\_HeatCapacityMass        & -0.4438313                     \\\\\n",
       "\t Site1\\_SpecificHeatCapacity    & Site1\\_HeatFusion              & -0.4468464                     \\\\\n",
       "\t Site1\\_HeatFusion              & Site1\\_HeatCapacityMass        & -0.4491715                     \\\\\n",
       "\t Site1\\_SpecificHeatCapacity      & NValance\\_composition\\_average  & -0.4894576                       \\\\\n",
       "\t Site1\\_HeatCapacityMass          & NValance\\_composition\\_average  & -0.4899870                       \\\\\n",
       "\t Site1\\_SpecificHeatCapacity      & NdValence\\_composition\\_average & -0.5113853                       \\\\\n",
       "\t Site1\\_HeatCapacityMass          & NdValence\\_composition\\_average & -0.5123576                       \\\\\n",
       "\t Site1\\_SpecificHeatCapacity    & Site1\\_IsDBlock                & -0.5426390                     \\\\\n",
       "\t Site1\\_IsDBlock                & Site1\\_HeatCapacityMass        & -0.5448461                     \\\\\n",
       "\t Site1\\_SpecificHeatCapacity      & Density\\_composition\\_average   & -0.6288779                       \\\\\n",
       "\t Site1\\_HeatCapacityMass          & Density\\_composition\\_average   & -0.6292848                       \\\\\n",
       "\t Site1\\_SpecificHeatCapacity    & Site1\\_Density                 & -0.6994991                     \\\\\n",
       "\t Site1\\_HeatCapacityMass        & Site1\\_Density                 & -0.7002149                     \\\\\n",
       "\\end{tabular}\n"
      ],
      "text/markdown": [
       "\n",
       "| var1 | var2 | value |\n",
       "|---|---|---|\n",
       "| Trg                           | Trg                           | 1.0000000                     |\n",
       "| Site1_SpecificHeatCapacity    | Site1_HeatCapacityMass        | 0.9999816                     |\n",
       "| Site1_IsDBlock                | IsDBlock_composition_average  | 0.9217491                     |\n",
       "| HeatVaporization_difference   | BoilingT_difference           | 0.9095843                     |\n",
       "| NValance_composition_average  | Density_composition_average   | 0.9045063                     |\n",
       "| Site1_Density                 | Density_composition_average   | 0.9030622                     |\n",
       "| MeltingT_difference           | HeatVaporization_difference   | 0.8635075                     |\n",
       "| NdValence_composition_average | Density_composition_average   | 0.8632754                     |\n",
       "| Site1_NdValence               | NdValence_composition_average | 0.8364252                     |\n",
       "| Site1_Density                 | NValance_composition_average  | 0.8195043                     |\n",
       "| NValance_composition_average  | NdValence_composition_average | 0.8150236                     |\n",
       "| Site1_NdValence               | Site1_Density                 | 0.8148377                     |\n",
       "| NdValence_composition_average | IsDBlock_composition_average  | 0.8090395                     |\n",
       "| HeatVaporization_max_value    | IsDBlock_composition_average  | 0.7958483                     |\n",
       "| Site1_IsDBlock                | Site1_HeatFusion              | 0.7921665                     |\n",
       "| Site1_Density                 | NdValence_composition_average | 0.7744904                     |\n",
       "| Site1_IsDBlock                | NdValence_composition_average | 0.7692676                     |\n",
       "| Site1_IsDBlock                | HeatVaporization_max_value    | 0.7672422                     |\n",
       "| MeltingT_difference           | BoilingT_difference           | 0.7645436                     |\n",
       "| HeatVaporization_difference   | HeatVaporization_max_value    | 0.7633996                     |\n",
       "| Site1_NdValence               | Site1_IsDBlock                | 0.7480231                     |\n",
       "| Site1_NdValence               | Density_composition_average   | 0.7388513                     |\n",
       "| IsDBlock_composition_average  | Density_composition_average   | 0.7382365                     |\n",
       "| Site1_HeatFusion              | IsDBlock_composition_average  | 0.7273011                     |\n",
       "| Site1_IsDBlock                | Site1_Density                 | 0.7247189                     |\n",
       "| Site1_NdValence               | IsDBlock_composition_average  | 0.7224929                     |\n",
       "| valence_difference            | HeatVaporization_max_value    | 0.7091547                     |\n",
       "| Site1_IsDBlock                | Density_composition_average   | 0.7037828                     |\n",
       "| Site1_NdValence               | NValance_composition_average  | 0.6987335                     |\n",
       "| Site1_IsDBlock                | valence_difference            | 0.6656579                     |\n",
       "| ... | ... | ... |\n",
       "| HeatVaporization_difference   | IsBoron_composition_average   | -0.2271828                    |\n",
       "| Site1_NdValence               | IsBoron_composition_average   | -0.2283752                    |\n",
       "| BoilingT_difference           | IsBoron_composition_average   | -0.2459723                    |\n",
       "| NValance_composition_average  | IsBoron_composition_average   | -0.2494209                    |\n",
       "| Site1_SpecificHeatCapacity    | Trg                           | -0.2772762                    |\n",
       "| Site1_HeatCapacityMass        | Trg                           | -0.2778765                    |\n",
       "| IsBoron_composition_average   | Trg                           | -0.2813680                    |\n",
       "| IsDBlock_composition_average  | IsBoron_composition_average   | -0.2919107                    |\n",
       "| Site1_SpecificHeatCapacity    | HeatVaporization_max_value    | -0.3037087                    |\n",
       "| Site1_HeatCapacityMass        | HeatVaporization_max_value    | -0.3052821                    |\n",
       "| NsUnfilled_difference         | IsBoron_composition_average   | -0.3169002                    |\n",
       "| Site1_SpecificHeatCapacity    | valence_difference            | -0.3464715                    |\n",
       "| Site1_HeatCapacityMass        | valence_difference            | -0.3469367                    |\n",
       "| NdValence_composition_average | IsBoron_composition_average   | -0.3831969                    |\n",
       "| Site1_SpecificHeatCapacity    | IsDBlock_composition_average  | -0.4379714                    |\n",
       "| Site1_HeatCapacityMass        | IsDBlock_composition_average  | -0.4401657                    |\n",
       "| Site1_SpecificHeatCapacity    | Site1_NdValence               | -0.4422271                    |\n",
       "| Site1_NdValence               | Site1_HeatCapacityMass        | -0.4438313                    |\n",
       "| Site1_SpecificHeatCapacity    | Site1_HeatFusion              | -0.4468464                    |\n",
       "| Site1_HeatFusion              | Site1_HeatCapacityMass        | -0.4491715                    |\n",
       "| Site1_SpecificHeatCapacity    | NValance_composition_average  | -0.4894576                    |\n",
       "| Site1_HeatCapacityMass        | NValance_composition_average  | -0.4899870                    |\n",
       "| Site1_SpecificHeatCapacity    | NdValence_composition_average | -0.5113853                    |\n",
       "| Site1_HeatCapacityMass        | NdValence_composition_average | -0.5123576                    |\n",
       "| Site1_SpecificHeatCapacity    | Site1_IsDBlock                | -0.5426390                    |\n",
       "| Site1_IsDBlock                | Site1_HeatCapacityMass        | -0.5448461                    |\n",
       "| Site1_SpecificHeatCapacity    | Density_composition_average   | -0.6288779                    |\n",
       "| Site1_HeatCapacityMass        | Density_composition_average   | -0.6292848                    |\n",
       "| Site1_SpecificHeatCapacity    | Site1_Density                 | -0.6994991                    |\n",
       "| Site1_HeatCapacityMass        | Site1_Density                 | -0.7002149                    |\n",
       "\n"
      ],
      "text/plain": [
       "    var1                          var2                          value     \n",
       "1   Trg                           Trg                           1.0000000 \n",
       "2   Site1_SpecificHeatCapacity    Site1_HeatCapacityMass        0.9999816 \n",
       "3   Site1_IsDBlock                IsDBlock_composition_average  0.9217491 \n",
       "4   HeatVaporization_difference   BoilingT_difference           0.9095843 \n",
       "5   NValance_composition_average  Density_composition_average   0.9045063 \n",
       "6   Site1_Density                 Density_composition_average   0.9030622 \n",
       "7   MeltingT_difference           HeatVaporization_difference   0.8635075 \n",
       "8   NdValence_composition_average Density_composition_average   0.8632754 \n",
       "9   Site1_NdValence               NdValence_composition_average 0.8364252 \n",
       "10  Site1_Density                 NValance_composition_average  0.8195043 \n",
       "11  NValance_composition_average  NdValence_composition_average 0.8150236 \n",
       "12  Site1_NdValence               Site1_Density                 0.8148377 \n",
       "13  NdValence_composition_average IsDBlock_composition_average  0.8090395 \n",
       "14  HeatVaporization_max_value    IsDBlock_composition_average  0.7958483 \n",
       "15  Site1_IsDBlock                Site1_HeatFusion              0.7921665 \n",
       "16  Site1_Density                 NdValence_composition_average 0.7744904 \n",
       "17  Site1_IsDBlock                NdValence_composition_average 0.7692676 \n",
       "18  Site1_IsDBlock                HeatVaporization_max_value    0.7672422 \n",
       "19  MeltingT_difference           BoilingT_difference           0.7645436 \n",
       "20  HeatVaporization_difference   HeatVaporization_max_value    0.7633996 \n",
       "21  Site1_NdValence               Site1_IsDBlock                0.7480231 \n",
       "22  Site1_NdValence               Density_composition_average   0.7388513 \n",
       "23  IsDBlock_composition_average  Density_composition_average   0.7382365 \n",
       "24  Site1_HeatFusion              IsDBlock_composition_average  0.7273011 \n",
       "25  Site1_IsDBlock                Site1_Density                 0.7247189 \n",
       "26  Site1_NdValence               IsDBlock_composition_average  0.7224929 \n",
       "27  valence_difference            HeatVaporization_max_value    0.7091547 \n",
       "28  Site1_IsDBlock                Density_composition_average   0.7037828 \n",
       "29  Site1_NdValence               NValance_composition_average  0.6987335 \n",
       "30  Site1_IsDBlock                valence_difference            0.6656579 \n",
       "... ...                           ...                           ...       \n",
       "143 HeatVaporization_difference   IsBoron_composition_average   -0.2271828\n",
       "144 Site1_NdValence               IsBoron_composition_average   -0.2283752\n",
       "145 BoilingT_difference           IsBoron_composition_average   -0.2459723\n",
       "146 NValance_composition_average  IsBoron_composition_average   -0.2494209\n",
       "147 Site1_SpecificHeatCapacity    Trg                           -0.2772762\n",
       "148 Site1_HeatCapacityMass        Trg                           -0.2778765\n",
       "149 IsBoron_composition_average   Trg                           -0.2813680\n",
       "150 IsDBlock_composition_average  IsBoron_composition_average   -0.2919107\n",
       "151 Site1_SpecificHeatCapacity    HeatVaporization_max_value    -0.3037087\n",
       "152 Site1_HeatCapacityMass        HeatVaporization_max_value    -0.3052821\n",
       "153 NsUnfilled_difference         IsBoron_composition_average   -0.3169002\n",
       "154 Site1_SpecificHeatCapacity    valence_difference            -0.3464715\n",
       "155 Site1_HeatCapacityMass        valence_difference            -0.3469367\n",
       "156 NdValence_composition_average IsBoron_composition_average   -0.3831969\n",
       "157 Site1_SpecificHeatCapacity    IsDBlock_composition_average  -0.4379714\n",
       "158 Site1_HeatCapacityMass        IsDBlock_composition_average  -0.4401657\n",
       "159 Site1_SpecificHeatCapacity    Site1_NdValence               -0.4422271\n",
       "160 Site1_NdValence               Site1_HeatCapacityMass        -0.4438313\n",
       "161 Site1_SpecificHeatCapacity    Site1_HeatFusion              -0.4468464\n",
       "162 Site1_HeatFusion              Site1_HeatCapacityMass        -0.4491715\n",
       "163 Site1_SpecificHeatCapacity    NValance_composition_average  -0.4894576\n",
       "164 Site1_HeatCapacityMass        NValance_composition_average  -0.4899870\n",
       "165 Site1_SpecificHeatCapacity    NdValence_composition_average -0.5113853\n",
       "166 Site1_HeatCapacityMass        NdValence_composition_average -0.5123576\n",
       "167 Site1_SpecificHeatCapacity    Site1_IsDBlock                -0.5426390\n",
       "168 Site1_IsDBlock                Site1_HeatCapacityMass        -0.5448461\n",
       "169 Site1_SpecificHeatCapacity    Density_composition_average   -0.6288779\n",
       "170 Site1_HeatCapacityMass        Density_composition_average   -0.6292848\n",
       "171 Site1_SpecificHeatCapacity    Site1_Density                 -0.6994991\n",
       "172 Site1_HeatCapacityMass        Site1_Density                 -0.7002149"
      ]
     },
     "metadata": {},
     "output_type": "display_data"
    }
   ],
   "source": [
    "#finding the most correlated features\n",
    "cor(df_numer) %>%\n",
    "  as.data.frame() %>%\n",
    "  mutate(var1 = rownames(.)) %>%\n",
    "  gather(var2, value, -var1) %>%\n",
    "  arrange(desc(value)) %>%\n",
    "  group_by(value) %>%\n",
    "  filter(row_number()==1)"
   ]
  },
  {
   "cell_type": "markdown",
   "id": "modified-rotation",
   "metadata": {},
   "source": [
    "OBSERVATIONS::the most correlated variables are\n",
    "\n",
    "1. Site1_SpecificHeatCapacity---Site1_HeatCapacityMass\t---- 0.9999816\n",
    "2. Site1_IsDBlock----IsDBlock_composition_average----0.9217491\n",
    "3. HeatVaporization_difference----BoilingT_difference----0.9095843\n",
    "4. NValance_composition_average----Density_composition_average----0.9045063\n",
    "5. Site1_Density----Density_composition_average----0.9030622\n",
    "6. MeltingT_difference----HeatVaporization_difference----0.8635075\n",
    "7. NdValence_composition_average-----Density_composition_average----0.8632754\n",
    "8. Site1_NdValence-----NdValence_composition_average---- 0.8364252\n",
    "9. Site1_Density----NValance_composition_average----0.8195043\n",
    "10. NValance_composition_average----NdValence_composition_average---- 0.8150236\n",
    "11. Site1_NdValence----Site1_Density----0.8148377\n",
    "12. NdValence_composition_average-----IsDBlock_composition_average---- 0.8090395\n",
    "13. also no feature is highly correlated with the target variable"
   ]
  },
  {
   "cell_type": "markdown",
   "id": "aquatic-contents",
   "metadata": {},
   "source": [
    "***SCATTERPLOTS OF HIGHLY CORRELATED VARIABLES***"
   ]
  },
  {
   "cell_type": "code",
   "execution_count": 79,
   "id": "elementary-township",
   "metadata": {
    "scrolled": false
   },
   "outputs": [
    {
     "data": {
      "text/plain": [
       "NULL"
      ]
     },
     "metadata": {},
     "output_type": "display_data"
    },
    {
     "data": {
      "text/plain": [
       "NULL"
      ]
     },
     "metadata": {},
     "output_type": "display_data"
    },
    {
     "data": {
      "text/plain": [
       "NULL"
      ]
     },
     "metadata": {},
     "output_type": "display_data"
    },
    {
     "data": {
      "text/plain": [
       "NULL"
      ]
     },
     "metadata": {},
     "output_type": "display_data"
    },
    {
     "data": {
      "text/plain": [
       "NULL"
      ]
     },
     "metadata": {},
     "output_type": "display_data"
    },
    {
     "name": "stderr",
     "output_type": "stream",
     "text": [
      "`geom_smooth()` using formula 'y ~ x'\n",
      "`geom_smooth()` using formula 'y ~ x'\n",
      "`geom_smooth()` using formula 'y ~ x'\n",
      "`geom_smooth()` using formula 'y ~ x'\n",
      "`geom_smooth()` using formula 'y ~ x'\n"
     ]
    },
    {
     "data": {
      "image/png": "[encoded data removed]",
      "text/plain": [
       "plot without title"
      ]
     },
     "metadata": {},
     "output_type": "display_data"
    }
   ],
   "source": [
    "#scatterplots\n",
    "par(mfrow = c(3, 2))\n",
    "\n",
    "a <- ggplot(df,aes(x=Site1_SpecificHeatCapacity ,y=Site1_HeatCapacityMass ))+geom_point(color= \"steelblue\")+geom_smooth(method = \"lm\")\n",
    "labs(x=\"Site1_SpecificHeatCapacity\",y=\"Site1_HeatCapacityMass \")+theme_light()\n",
    "\n",
    "b <- ggplot(df,aes(x=Site1_IsDBlock ,y=IsDBlock_composition_average ))+geom_point(color= \"steelblue\")+geom_smooth(method = \"lm\")\n",
    "labs(x=\"Site1_IsDBlock\",y=\"IsDBlock_composition_average\",title = \"scatterplots\")+theme_light()\n",
    "\n",
    "c <- ggplot(df,aes(x=HeatVaporization_difference ,y=BoilingT_difference ))+geom_point(color= \"steelblue\")+geom_smooth(method = \"lm\")\n",
    "labs(x=\"HeatVaporization_difference\",y=\"BoilingT_difference\")+theme_light()\n",
    "\n",
    "d <- ggplot(df,aes(x=NValance_composition_average ,y=Density_composition_average))+geom_point(color= \"steelblue\")+geom_smooth(method = \"lm\")\n",
    "labs(x=\"NValance_composition_average\",y=\"Density_composition_average\")+theme_light()\n",
    "\n",
    "e <- ggplot(df,aes(x=Site1_Density ,y=Density_composition_average))+geom_point(color= \"steelblue\")+geom_smooth(method = \"lm\")\n",
    "labs(x=\"Site1_Density\",y=\"Density_composition_average\")+theme_light()\n",
    "\n",
    "ggarrange(a,b,c,d,e)"
   ]
  }
 ],
 "metadata": {
  "kernelspec": {
   "display_name": "R",
   "language": "R",
   "name": "ir"
  },
  "language_info": {
   "codemirror_mode": "r",
   "file_extension": ".r",
   "mimetype": "text/x-r-source",
   "name": "R",
   "pygments_lexer": "r",
   "version": "3.6.1"
  }
 },
 "nbformat": 4,
 "nbformat_minor": 5
}
